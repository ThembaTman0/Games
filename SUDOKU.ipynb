{
 "cells": [
  {
   "cell_type": "markdown",
   "id": "25f7d630",
   "metadata": {},
   "source": [
    "<h2>Installations and Libraries</h2>"
   ]
  },
  {
   "cell_type": "markdown",
   "id": "598d69b7",
   "metadata": {},
   "source": [
    "PyAutoGUI lets your Python scripts control the mouse and keyboard to automate interactions with other applications. The API is designed to be simple. PyAutoGUI works on Windows, macOS, and Linux, and runs on Python 2 and 3."
   ]
  },
  {
   "cell_type": "code",
   "execution_count": 1,
   "id": "556fa9f2",
   "metadata": {},
   "outputs": [],
   "source": [
    "# !pip install PyAutoGUI"
   ]
  },
  {
   "cell_type": "code",
   "execution_count": 2,
   "id": "82d6430b",
   "metadata": {},
   "outputs": [],
   "source": [
    "import pyautogui as pg \n",
    "import numpy as np\n",
    "import time"
   ]
  },
  {
   "cell_type": "markdown",
   "id": "bc1686e9",
   "metadata": {},
   "source": [
    "<h2>Input the Grid</h2>"
   ]
  },
  {
   "cell_type": "code",
   "execution_count": 3,
   "id": "7b109539",
   "metadata": {},
   "outputs": [
    {
     "name": "stdout",
     "output_type": "stream",
     "text": [
      "Row: 002017040\n",
      "Row 1 Complete\n",
      "Row: 060000002\n",
      "Row 2 Complete\n",
      "Row: 000030000\n",
      "Row 3 Complete\n",
      "Row: 000500000\n",
      "Row 4 Complete\n",
      "Row: 006024010\n",
      "Row 5 Complete\n",
      "Row: 800000900\n",
      "Row 6 Complete\n",
      "Row: 000600050\n",
      "Row 7 Complete\n",
      "Row: 090075100\n",
      "Row 8 Complete\n",
      "Row: 007300000\n"
     ]
    }
   ],
   "source": [
    "grid=[]\n",
    "while True:\n",
    "    row=list(input(\"Row: \"))\n",
    "    ints=[]\n",
    "    \n",
    "    for n in row:\n",
    "        ints.append(int(n))\n",
    "    grid.append(ints)\n",
    "    \n",
    "    if len(grid)==9:\n",
    "        break\n",
    "    print('Row '+str(len(grid))+ ' Complete')\n",
    "time.sleep(3)"
   ]
  },
  {
   "cell_type": "markdown",
   "id": "9147bf37",
   "metadata": {},
   "source": [
    "<h1>Algorithm</h1>"
   ]
  },
  {
   "cell_type": "markdown",
   "id": "6c59fdc2",
   "metadata": {},
   "source": [
    "<h2>Check if possible to input value on grid</h2>"
   ]
  },
  {
   "cell_type": "code",
   "execution_count": 4,
   "id": "98d07168",
   "metadata": {},
   "outputs": [],
   "source": [
    "# CHECK IF ITS POSSIBLE TO INPUT THE VALUE\n",
    "def possible(x,y,n):\n",
    "\tfor i in range(0,9):\n",
    "\t\t# CHECK IF N ALREADY n IS ALREADY IN THE ROWS\n",
    "\t\tif grid[i][x]==n and i!=y:\n",
    "\t\t\treturn False\n",
    "\n",
    "\tfor i in range(0,9):\n",
    "\t\t# CHECK IF N ALREADY n IS ALREADY IN THE GRID COLUMNS\n",
    "\t\tif grid[y][i]==n and i!=x:\n",
    "\t\t\treturn False\n",
    " \t\n",
    "\t#CHECK THE BOX \n",
    "\tx0=(x // 3)*3\n",
    "\ty0=(y // 3)*3\n",
    "\t\n",
    "\tfor p in range(x0,x0+3):\n",
    "\t\tfor q in range(y0,y0+3):\n",
    "\t\t\tif grid[q][p]==n:\n",
    "\t\t\t\treturn False\n",
    "\t\n",
    "\treturn True\n"
   ]
  },
  {
   "cell_type": "code",
   "execution_count": 5,
   "id": "a16b6dc0",
   "metadata": {},
   "outputs": [],
   "source": [
    "def Print(matrix):\n",
    "    final = []\n",
    "    str_fin = []\n",
    "    for i in range(9):\n",
    "        final.append(matrix[i])\n",
    "\n",
    "    for lists in final:\n",
    "        for num in lists:\n",
    "            str_fin.append(str(num))\n",
    "\n",
    "    counter = []\n",
    "\n",
    "    for num in str_fin:\n",
    "        pg.press(num)\n",
    "        pg.hotkey('right')\n",
    "        counter.append(num)\n",
    "        if len(counter)%9 == 0:\n",
    "            pg.hotkey('down')\n",
    "            pg.hotkey('left')\n",
    "            pg.hotkey('left')\n",
    "            pg.hotkey('left')\n",
    "            pg.hotkey('left')\n",
    "            pg.hotkey('left')\n",
    "            pg.hotkey('left')\n",
    "            pg.hotkey('left')\n",
    "            pg.hotkey('left')\n"
   ]
  },
  {
   "cell_type": "code",
   "execution_count": 6,
   "id": "c0574348",
   "metadata": {},
   "outputs": [],
   "source": [
    "# SOLVE THE SUDOKU GRID\n",
    "def solve():\n",
    "    global grid\n",
    "    for y in range(9):\n",
    "        for x in range(9):\n",
    "            if grid[y][x] == 0:\n",
    "                for n in range(1, 10):\n",
    "                    if possible(x,y,n):\n",
    "                        grid[y][x] = n\n",
    "                        solve()\n",
    "                        grid[y][x] = 0\n",
    "                return\n",
    "    # print(\"DONE\")\n",
    "    Print(grid)\n",
    "    # input(\"More?\")\n",
    "\n",
    "solve()"
   ]
  },
  {
   "cell_type": "code",
   "execution_count": null,
   "id": "cdc6024b",
   "metadata": {},
   "outputs": [],
   "source": []
  }
 ],
 "metadata": {
  "kernelspec": {
   "display_name": "Python 3",
   "language": "python",
   "name": "python3"
  },
  "language_info": {
   "codemirror_mode": {
    "name": "ipython",
    "version": 3
   },
   "file_extension": ".py",
   "mimetype": "text/x-python",
   "name": "python",
   "nbconvert_exporter": "python",
   "pygments_lexer": "ipython3",
   "version": "3.9.5"
  }
 },
 "nbformat": 4,
 "nbformat_minor": 5
}
